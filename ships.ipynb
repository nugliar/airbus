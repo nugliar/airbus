{
 "cells": [
  {
   "cell_type": "code",
   "execution_count": 77,
   "metadata": {},
   "outputs": [],
   "source": [
    "import os\n",
    "import math\n",
    "import tensorflow as tf\n",
    "import numpy as np\n",
    "import pandas as pd\n",
    "import matplotlib.pyplot as plt\n",
    "import gc; gc.enable()\n",
    "from collections import defaultdict\n",
    "\n",
    "import skimage as skim\n",
    "from skimage.io import imread\n",
    "from skimage.util import montage2d as montage\n",
    "from skimage.morphology import label"
   ]
  },
  {
   "cell_type": "code",
   "execution_count": 78,
   "metadata": {},
   "outputs": [],
   "source": [
    "tf.logging.set_verbosity(tf.logging.ERROR)"
   ]
  },
  {
   "cell_type": "markdown",
   "metadata": {},
   "source": [
    "## Set path variables"
   ]
  },
  {
   "cell_type": "code",
   "execution_count": 79,
   "metadata": {},
   "outputs": [],
   "source": [
    "ship_dir = '.'\n",
    "train_image_dir = os.path.join(ship_dir, 'train_v2')\n",
    "test_image_dir = os.path.join(ship_dir, 'test_v2')"
   ]
  },
  {
   "cell_type": "markdown",
   "metadata": {},
   "source": [
    "## Get segmentation dataframe"
   ]
  },
  {
   "cell_type": "code",
   "execution_count": 80,
   "metadata": {},
   "outputs": [],
   "source": [
    "masks = pd.read_csv('train_ship_segmentations_v2.csv')"
   ]
  },
  {
   "cell_type": "markdown",
   "metadata": {},
   "source": [
    "## Define RLE functions"
   ]
  },
  {
   "cell_type": "code",
   "execution_count": 82,
   "metadata": {},
   "outputs": [],
   "source": [
    "def rle_decode(mask_rle, shape=(768, 768)):\n",
    "    '''\n",
    "    mask_rle: run-length as string formated (start length)\n",
    "    shape: (height,width) of array to return \n",
    "    Returns numpy array, 1 - mask, 0 - background\n",
    "    '''\n",
    "    string = mask_rle.split()\n",
    "    starts = np.asarray(string[0::2], dtype=int) # select indices starting from 0 with step 2\n",
    "    lengths = np.asarray(string[1::2], dtype=int) # select indices starting from 1 with step 2\n",
    "    starts -= 1 # since indices should start from 0 and input starts from 1\n",
    "    ends = starts + lengths\n",
    "    img = np.zeros(shape[0]*shape[1], dtype=np.uint8)\n",
    "    for lo, hi in zip(starts, ends):\n",
    "        img[lo:hi] = 1\n",
    "    return img.reshape(shape).T"
   ]
  },
  {
   "cell_type": "code",
   "execution_count": 83,
   "metadata": {},
   "outputs": [],
   "source": [
    "def multi_rle_encode(img, **kwargs):\n",
    "    labels = label(img)\n",
    "    if img.ndim > 2:\n",
    "        return [rle_encode(np.sum(labels == x, axis=2), **kwargs) for x in np.unique(labels[labels > 0])]\n",
    "    else:\n",
    "        return [rle_encode(labels == x, **kwargs) for x in np.unique(labels[labels > 0])]"
   ]
  },
  {
   "cell_type": "code",
   "execution_count": 84,
   "metadata": {},
   "outputs": [],
   "source": [
    "def rle_encode(image):\n",
    "    pixels = image.T.flatten()\n",
    "    pixels = np.concatenate([[0], pixels, [0]])\n",
    "    runs = np.where(pixels[1:] != pixels[:-1])[0] + 1 # make indices start from 1 by adding 1\n",
    "    runs[1::2] = runs[1::2] - runs[::2]\n",
    "    return ' '.join(str(x) for x in runs)"
   ]
  },
  {
   "cell_type": "code",
   "execution_count": 85,
   "metadata": {},
   "outputs": [],
   "source": [
    "def blockshaped(arr, nrows, ncols):\n",
    "    \"\"\"\n",
    "    Return an array of shape (n, nrows, ncols) where\n",
    "    n * nrows * ncols = arr.size\n",
    "\n",
    "    If arr is a 2D array, the returned array should look like n subblocks with\n",
    "    each subblock preserving the \"physical\" layout of arr.\n",
    "    \"\"\"\n",
    "    h, w = arr.shape\n",
    "    return (arr.reshape(h//nrows, nrows, -1, ncols)\n",
    "               .swapaxes(1,2)\n",
    "               .reshape(-1, nrows, ncols))\n",
    "\n",
    "def masks_plain(mask_list, shape=(768, 768)):\n",
    "\n",
    "    all_masks = np.zeros(shape, dtype=np.uint8)\n",
    "\n",
    "    for mask in mask_list:\n",
    "        if isinstance(mask, str):\n",
    "            all_masks |= rle_decode(mask)\n",
    "            #all_masks |= np.stack([x, np.invert(x > 1)], axis=-1)\n",
    "    return all_masks"
   ]
  },
  {
   "cell_type": "code",
   "execution_count": 86,
   "metadata": {},
   "outputs": [],
   "source": [
    "def masks_colored(mask_list, shape=(768, 768)):\n",
    "    all_masks = np.zeros(shape, dtype=np.float)\n",
    "    scale = lambda x: (len(mask_list) + x) / (len(mask_list) * 2)\n",
    "    for i, mask in enumerate(mask_list):\n",
    "        if isinstance(mask, str):\n",
    "            all_masks = all_masks + scale(i) * rle_decode(mask)\n",
    "    return all_masks"
   ]
  },
  {
   "cell_type": "markdown",
   "metadata": {},
   "source": [
    "## Create train dataframe"
   ]
  },
  {
   "cell_type": "code",
   "execution_count": 87,
   "metadata": {},
   "outputs": [
    {
     "name": "stdout",
     "output_type": "stream",
     "text": [
      "81723 masks in 42556 images\n",
      "150000 empty images in 192556 total images\n"
     ]
    }
   ],
   "source": [
    "not_empty = pd.notna(masks['EncodedPixels'])\n",
    "\n",
    "print(\"{} masks in {} images\".format(not_empty.sum(), masks[not_empty]['ImageId'].nunique()))\n",
    "print(\"{} empty images in {} total images\".format((~not_empty).sum(), masks['ImageId'].nunique()))"
   ]
  },
  {
   "cell_type": "code",
   "execution_count": 88,
   "metadata": {},
   "outputs": [],
   "source": [
    "# create ships column\n",
    "\n",
    "masks['ships'] = masks['EncodedPixels'].map(lambda row: 1 if isinstance(row, str) else 0)"
   ]
  },
  {
   "cell_type": "markdown",
   "metadata": {},
   "source": [
    "### Create dataframe containing only unique image ids"
   ]
  },
  {
   "cell_type": "code",
   "execution_count": 89,
   "metadata": {},
   "outputs": [],
   "source": [
    "unique_img_ids = masks.groupby('ImageId').agg({'ships': 'sum'}).reset_index()"
   ]
  },
  {
   "cell_type": "code",
   "execution_count": 90,
   "metadata": {},
   "outputs": [],
   "source": [
    "# create boolean 'has_ship' column\n",
    "\n",
    "unique_img_ids['has_ship'] = unique_img_ids['ships'].map(lambda ships: 1.0 if ships > 0 else 0.0)"
   ]
  },
  {
   "cell_type": "code",
   "execution_count": 91,
   "metadata": {},
   "outputs": [],
   "source": [
    "# create image size column\n",
    "\n",
    "unique_img_ids['img_size'] = unique_img_ids['ImageId'].map(\n",
    "    lambda img_id: os.stat(os.path.join(train_image_dir, img_id)).st_size / 1024)"
   ]
  },
  {
   "cell_type": "code",
   "execution_count": 92,
   "metadata": {},
   "outputs": [],
   "source": [
    "# drop image ids corresponding to files with size less than 50kb\n",
    "\n",
    "unique_img_ids = unique_img_ids[unique_img_ids['img_size'] > 50]"
   ]
  },
  {
   "cell_type": "code",
   "execution_count": 93,
   "metadata": {},
   "outputs": [],
   "source": [
    "masks.drop(columns='ships', inplace=True)"
   ]
  },
  {
   "cell_type": "code",
   "execution_count": 94,
   "metadata": {},
   "outputs": [
    {
     "data": {
      "text/plain": [
       "<matplotlib.axes._subplots.AxesSubplot at 0x7fef8f04b160>"
      ]
     },
     "execution_count": 94,
     "metadata": {},
     "output_type": "execute_result"
    },
    {
     "data": {
      "image/png": "[encoded data removed]",
      "text/plain": [
       "<Figure size 432x288 with 1 Axes>"
      ]
     },
     "metadata": {},
     "output_type": "display_data"
    }
   ],
   "source": [
    "# get histogram for number of ships on image\n",
    "\n",
    "unique_img_ids['ships'].hist(bins=unique_img_ids['ships'].max())"
   ]
  },
  {
   "cell_type": "markdown",
   "metadata": {},
   "source": [
    "### Undersample ship_number classes"
   ]
  },
  {
   "cell_type": "code",
   "execution_count": 95,
   "metadata": {},
   "outputs": [
    {
     "data": {
      "text/plain": [
       "<matplotlib.axes._subplots.AxesSubplot at 0x7fef8f2f8e80>"
      ]
     },
     "execution_count": 95,
     "metadata": {},
     "output_type": "execute_result"
    },
    {
     "data": {
      "image/png": "[encoded data removed]",
      "text/plain": [
       "<Figure size 432x288 with 1 Axes>"
      ]
     },
     "metadata": {},
     "output_type": "display_data"
    }
   ],
   "source": [
    "# group by ship count and undersampling\n",
    "\n",
    "SAMPLES_PER_GROUP = 3000\n",
    "\n",
    "train_data = unique_img_ids.groupby('ships').apply(\n",
    "    lambda x: x.sample(SAMPLES_PER_GROUP) if len(x) > SAMPLES_PER_GROUP else x)\n",
    "\n",
    "train_data['ships'].hist(bins=unique_img_ids['ships'].max() + 1)"
   ]
  },
  {
   "cell_type": "markdown",
   "metadata": {},
   "source": [
    "### Create { img_id : mask } dictionary"
   ]
  },
  {
   "cell_type": "code",
   "execution_count": 97,
   "metadata": {},
   "outputs": [],
   "source": [
    "mask_dict = defaultdict(list)\n",
    "\n",
    "for img, mask in zip(masks['ImageId'], masks['EncodedPixels']):\n",
    "    if isinstance(mask, str):\n",
    "        mask_dict[img].append(mask)"
   ]
  },
  {
   "cell_type": "markdown",
   "metadata": {},
   "source": [
    "## Create numpy examples"
   ]
  },
  {
   "cell_type": "code",
   "execution_count": 98,
   "metadata": {},
   "outputs": [],
   "source": [
    "def create_data(train_data, mask_dict, ratio=0.8, size=100):\n",
    "    \n",
    "    if ratio >= 1.0 or ratio <= 0.0:\n",
    "        ratio = 0.8\n",
    "    \n",
    "    batch_ids = np.random.choice(train_data['ImageId'], size=size)\n",
    "    \n",
    "    examples = []\n",
    "    labels = []\n",
    "    \n",
    "    for img_id in batch_ids:\n",
    "        labels.append(masks_plain(mask_dict[img_id]))\n",
    "        examples.append(imread(train_image_dir + '/' + img_id))\n",
    "            #skim.exposure.adjust_sigmoid(imread(train_image_dir + '/' + img_id), cutoff=0.7, gain=100))\n",
    "    \n",
    "    train_size = int(len(examples) * ratio)\n",
    "    \n",
    "    train_exs = np.asarray(examples[:train_size], dtype=np.float32)\n",
    "    valid_exs = np.asarray(examples[train_size:], dtype=np.float32)\n",
    "    train_lbls = np.asarray(labels[:train_size], dtype=np.float32)\n",
    "    valid_lbls = np.asarray(labels[train_size:], dtype=np.float32)\n",
    "    \n",
    "    return train_exs, train_lbls, valid_exs, valid_lbls"
   ]
  },
  {
   "cell_type": "markdown",
   "metadata": {},
   "source": [
    "## Define deconvolution layer"
   ]
  },
  {
   "cell_type": "code",
   "execution_count": 99,
   "metadata": {},
   "outputs": [],
   "source": [
    "def deconv2d(tensor, kernel, out_size, out_chan, in_chan, name, strides=[1,1,1,1]):\n",
    "    input_shape = tf.shape(tensor)\n",
    "    batch_size = input_shape[0]\n",
    "    out_shape = tf.stack([batch_size, out_size, out_size, out_chan])\n",
    "    filter_shape = [kernel, kernel, out_chan, in_chan]\n",
    "    weights = tf.get_variable(name=name, shape=filter_shape)\n",
    "    out_tensor = tf.nn.conv2d_transpose(tensor, weights, out_shape, strides, padding='SAME')\n",
    "    return out_tensor"
   ]
  },
  {
   "cell_type": "markdown",
   "metadata": {},
   "source": [
    "## U-Net model, dice loss"
   ]
  },
  {
   "cell_type": "code",
   "execution_count": 100,
   "metadata": {},
   "outputs": [],
   "source": [
    "def cnn_model_fn(features, labels, mode):\n",
    "    \n",
    "    # (b * h * w * ch)\n",
    "    \n",
    "    # downscaling...\n",
    "    \n",
    "    conv_layer_1 = tf.layers.conv2d(\n",
    "        inputs=features['x'], # (b * 768 * 768 * 3)\n",
    "        filters=8,            # (b * 768 * 768 * 8)\n",
    "        kernel_size=[1, 1],\n",
    "        padding='same',\n",
    "        activation=tf.nn.relu)\n",
    "    \n",
    "    pool_layer_1 = tf.layers.max_pooling2d(\n",
    "        inputs = conv_layer_1, # (b * 768 * 768 * 8)\n",
    "        pool_size = [2, 2],    # (b * 384 * 384 * 8)\n",
    "        strides = 2,\n",
    "        padding='valid')\n",
    "    \n",
    "    conv_layer_2 = tf.layers.conv2d(\n",
    "        inputs=pool_layer_1, # (b * 384 * 384 * 8)\n",
    "        filters=16,          # (b * 384 * 384 * 16)\n",
    "        kernel_size=[3, 3],\n",
    "        padding='same',\n",
    "        activation=tf.nn.relu)\n",
    "    \n",
    "    pool_layer_2 = tf.layers.max_pooling2d(\n",
    "        inputs = conv_layer_2, # (b * 384 * 384 * 16)\n",
    "        pool_size = [2, 2],    # (b * 192 * 192 * 16)\n",
    "        strides = 2,\n",
    "        padding='valid')\n",
    "    \n",
    "    conv_layer_3 = tf.layers.conv2d(\n",
    "        inputs=pool_layer_2, # (b * 192 * 192 * 16)\n",
    "        filters=32,          # (b * 192 * 192 * 32)\n",
    "        kernel_size=[3, 3],\n",
    "        padding='same',\n",
    "        activation=tf.nn.relu)\n",
    "    \n",
    "    pool_layer_3 = tf.layers.max_pooling2d(\n",
    "        inputs = conv_layer_3, # (b * 192 * 192 * 32)\n",
    "        pool_size = [2, 2],    # (b * 96 * 96 * 32)\n",
    "        strides = 2,\n",
    "        padding='valid')\n",
    "    \n",
    "    conv_layer_4 = tf.layers.conv2d(\n",
    "        inputs=pool_layer_3, # (b * 96 * 96 * 32)\n",
    "        filters=64,          # (b * 96 * 96 * 64)\n",
    "        kernel_size=[3, 3],\n",
    "        padding='same',\n",
    "        activation=tf.nn.relu)\n",
    "    \n",
    "    pool_layer_4 = tf.layers.max_pooling2d(\n",
    "        inputs = conv_layer_4, # (b * 96 * 96 * 64)\n",
    "        pool_size = [2, 2],    # (b * 48 * 48 * 64)\n",
    "        strides = 2,\n",
    "        padding='valid')\n",
    "    \n",
    "    conv_layer_5 = tf.layers.conv2d(\n",
    "        inputs=pool_layer_4, # (b * 48 * 48 * 64)\n",
    "        filters=128,         # (b * 48 * 48 * 128)\n",
    "        kernel_size=[3, 3],\n",
    "        padding='same',\n",
    "        activation=tf.nn.relu)\n",
    "    \n",
    "        \n",
    "    deconv_layer_1 = deconv2d(conv_layer_5, 1, 48, 128, 128, 'deconv1') # (b * 48 * 48 * 128)\n",
    "    deconv_layer_1 = tf.nn.relu(deconv_layer_1)\n",
    "    \n",
    "    # upscaling, using corresponding downscale layers...\n",
    "    \n",
    "    deconv_layer_2 = deconv2d(deconv_layer_1, 2, 96, 64, 128, 'deconv2', strides=[1,2,2,1]) # (b * 96 * 96 * 64)\n",
    "    deconv_layer_2 = tf.concat([deconv_layer_2, conv_layer_4], axis=-1)                     # (b * 96 * 96 * 128)\n",
    "    conv_layer_6 = tf.layers.conv2d(\n",
    "        inputs=deconv_layer_2, # (b * 96 * 96 * 128)\n",
    "        filters=64,            # (b * 96 * 96 * 64)\n",
    "        kernel_size=[3, 3],\n",
    "        padding='same',\n",
    "        activation=tf.nn.relu)\n",
    "    \n",
    "    deconv_layer_3 = deconv2d(conv_layer_6, 2, 192, 32, 64, 'deconv3', strides=[1,2,2,1]) # (b * 192 * 192 * 32)\n",
    "    deconv_layer_3 = tf.concat([deconv_layer_3, conv_layer_3], axis=-1)                   # (b * 192 * 192 * 64)\n",
    "    conv_layer_7 = tf.layers.conv2d(\n",
    "        inputs=deconv_layer_3, # (b * 192 * 192 * 64)\n",
    "        filters=32,            # (b * 192 * 192 * 32)\n",
    "        kernel_size=[3, 3],\n",
    "        padding='same',\n",
    "        activation=tf.nn.relu)\n",
    "    \n",
    "    deconv_layer_4 = deconv2d(conv_layer_7, 2, 384, 16, 32, 'deconv4', strides=[1,2,2,1]) # (b * 384 * 384 * 16)\n",
    "    deconv_layer_4 = tf.concat([deconv_layer_4, conv_layer_2], axis=-1)                   # (b * 384 * 384 * 32)\n",
    "    conv_layer_8 = tf.layers.conv2d(\n",
    "        inputs=deconv_layer_4, # (b * 384 * 384 * 32)\n",
    "        filters=16,            # (b * 384 * 384 * 16)\n",
    "        kernel_size=[3, 3],\n",
    "        padding='same',\n",
    "        activation=tf.nn.relu)\n",
    "    \n",
    "    deconv_layer_5 = deconv2d(conv_layer_8, 2, 768, 8, 16, 'deconv5', strides=[1,2,2,1])  # (b * 768 * 768 * 8)\n",
    "    deconv_layer_5 = tf.concat([deconv_layer_5, conv_layer_1], axis=-1)                   # (b * 768 * 768 * 16)\n",
    "    conv_layer_9 = tf.layers.conv2d(\n",
    "        inputs=deconv_layer_5, # (b * 768 * 768 * 16)\n",
    "        filters=8,             # (b * 768 * 768 * 8)\n",
    "        kernel_size=[3, 3],\n",
    "        padding='same',\n",
    "        activation=tf.nn.relu)\n",
    "    \n",
    "    deconv_layer_6 = deconv2d(conv_layer_9, 1, 768, 2, 8, 'deconv6')     # (b * 768 * 768 * 2)\n",
    "    logits = tf.nn.softmax(deconv_layer_6, axis=-1)                      # (b * 768 * 768 * 2)\n",
    "    \n",
    "    if mode == tf.estimator.ModeKeys.PREDICT:\n",
    "        return tf.estimator.EstimatorSpec(mode=mode, predictions=logits[:,:,:,0])\n",
    "    \n",
    "    # dice loss\n",
    "    loss = tf.reduce_sum(tf.multiply(logits[:,:,:,0], labels)) * 2\n",
    "    loss = 1 - tf.divide(loss + 1e-6, tf.reduce_sum(tf.add(logits[:,:,:,0], labels)) + 1e-6)\n",
    "    \n",
    "    if mode == tf.estimator.ModeKeys.TRAIN:\n",
    "        train_optimizer = tf.train.AdamOptimizer(learning_rate=LR).minimize(\n",
    "            loss=loss,\n",
    "            global_step=tf.train.get_global_step())\n",
    "        return tf.estimator.EstimatorSpec(mode=mode, loss=loss, train_op=train_optimizer)\n",
    "    \n",
    "    return tf.estimator.EstimatorSpec(mode=mode, loss=loss)"
   ]
  },
  {
   "cell_type": "markdown",
   "metadata": {},
   "source": [
    "## Configure estimator"
   ]
  },
  {
   "cell_type": "code",
   "execution_count": 101,
   "metadata": {},
   "outputs": [],
   "source": [
    "OUTDIR = './ships_train_data'\n",
    "\n",
    "cnn_model = tf.estimator.Estimator(model_fn=cnn_model_fn, model_dir=OUTDIR)"
   ]
  },
  {
   "cell_type": "markdown",
   "metadata": {},
   "source": [
    "## Train"
   ]
  },
  {
   "cell_type": "code",
   "execution_count": 32,
   "metadata": {
    "scrolled": true
   },
   "outputs": [
    {
     "name": "stdout",
     "output_type": "stream",
     "text": [
      "STEP 1         TRAIN:\tloss=0.969\tVALID:\tloss=0.868\n",
      "STEP 2         TRAIN:\tloss=0.917\tVALID:\tloss=0.728\n",
      "STEP 3         TRAIN:\tloss=0.890\tVALID:\tloss=0.765\n",
      "STEP 4         TRAIN:\tloss=0.965\tVALID:\tloss=0.955\n",
      "STEP 5         TRAIN:\tloss=0.887\tVALID:\tloss=0.947\n",
      "STEP 6         TRAIN:\tloss=0.843\tVALID:\tloss=0.735\n",
      "STEP 7         TRAIN:\tloss=0.734\tVALID:\tloss=0.653\n",
      "STEP 8         TRAIN:\tloss=0.825\tVALID:\tloss=0.757\n",
      "STEP 9         TRAIN:\tloss=0.730\tVALID:\tloss=0.688\n",
      "STEP 10        TRAIN:\tloss=0.728\tVALID:\tloss=0.904\n",
      "STEP 11        TRAIN:\tloss=0.619\tVALID:\tloss=0.706\n",
      "STEP 12        TRAIN:\tloss=0.669\tVALID:\tloss=0.550\n",
      "STEP 13        TRAIN:\tloss=0.659\tVALID:\tloss=0.648\n",
      "STEP 14        TRAIN:\tloss=0.672\tVALID:\tloss=0.688\n",
      "STEP 15        TRAIN:\tloss=0.575\tVALID:\tloss=0.700\n",
      "STEP 16        TRAIN:\tloss=0.553\tVALID:\tloss=0.510\n",
      "STEP 17        TRAIN:\tloss=0.710\tVALID:\tloss=0.654\n",
      "STEP 18        TRAIN:\tloss=0.612\tVALID:\tloss=0.656\n",
      "STEP 19        TRAIN:\tloss=0.621\tVALID:\tloss=0.613\n",
      "STEP 20        TRAIN:\tloss=0.582\tVALID:\tloss=0.517\n",
      "STEP 21        TRAIN:\tloss=0.553\tVALID:\tloss=0.544\n",
      "STEP 22        TRAIN:\tloss=0.495\tVALID:\tloss=0.546\n",
      "STEP 23        TRAIN:\tloss=0.619\tVALID:\tloss=0.618\n",
      "STEP 24        TRAIN:\tloss=0.598\tVALID:\tloss=0.617\n",
      "STEP 25        TRAIN:\tloss=0.583\tVALID:\tloss=0.455\n",
      "STEP 26        TRAIN:\tloss=0.555\tVALID:\tloss=0.587\n",
      "STEP 27        TRAIN:\tloss=0.502\tVALID:\tloss=0.552\n",
      "STEP 28        TRAIN:\tloss=0.569\tVALID:\tloss=0.656\n",
      "STEP 29        TRAIN:\tloss=0.524\tVALID:\tloss=0.594\n",
      "STEP 30        TRAIN:\tloss=0.581\tVALID:\tloss=0.545\n",
      "STEP 31        TRAIN:\tloss=0.530\tVALID:\tloss=0.505\n",
      "STEP 32        TRAIN:\tloss=0.551\tVALID:\tloss=0.527\n",
      "STEP 33        TRAIN:\tloss=0.560\tVALID:\tloss=0.339\n",
      "STEP 34        TRAIN:\tloss=0.458\tVALID:\tloss=0.454\n",
      "STEP 35        TRAIN:\tloss=0.490\tVALID:\tloss=0.485\n",
      "STEP 36        TRAIN:\tloss=0.466\tVALID:\tloss=0.530\n",
      "STEP 37        TRAIN:\tloss=0.532\tVALID:\tloss=0.591\n",
      "STEP 38        TRAIN:\tloss=0.488\tVALID:\tloss=0.617\n",
      "STEP 39        TRAIN:\tloss=0.474\tVALID:\tloss=0.585\n",
      "STEP 40        TRAIN:\tloss=0.491\tVALID:\tloss=0.461\n",
      "STEP 41        TRAIN:\tloss=0.519\tVALID:\tloss=0.530\n",
      "STEP 42        TRAIN:\tloss=0.476\tVALID:\tloss=0.492\n",
      "STEP 43        TRAIN:\tloss=0.480\tVALID:\tloss=0.449\n",
      "STEP 44        TRAIN:\tloss=0.554\tVALID:\tloss=0.478\n",
      "STEP 45        TRAIN:\tloss=0.526\tVALID:\tloss=0.549\n",
      "STEP 46        TRAIN:\tloss=0.535\tVALID:\tloss=0.460\n",
      "STEP 47        TRAIN:\tloss=0.482\tVALID:\tloss=0.559\n",
      "STEP 48        TRAIN:\tloss=0.442\tVALID:\tloss=0.471\n",
      "STEP 49        TRAIN:\tloss=0.517\tVALID:\tloss=0.564\n",
      "STEP 50        TRAIN:\tloss=0.474\tVALID:\tloss=0.590\n"
     ]
    }
   ],
   "source": [
    "gc.collect()\n",
    "\n",
    "STEPS = 50\n",
    "LR = 0.0005\n",
    "\n",
    "train_metrics = []\n",
    "valid_metrics = []\n",
    "\n",
    "for step in range(1, STEPS + 1):\n",
    "\n",
    "    train_exs, train_lbls, valid_exs, valid_lbls = create_data(train_data, mask_dict, size=200)\n",
    "\n",
    "    train_input_fn = tf.estimator.inputs.numpy_input_fn(\n",
    "        x={'x':train_exs},\n",
    "        y=train_lbls,\n",
    "        batch_size=5,\n",
    "        num_epochs=1,\n",
    "        shuffle=True)\n",
    "\n",
    "    eval_input_fn = tf.estimator.inputs.numpy_input_fn(\n",
    "        x={'x':train_exs},\n",
    "        y=train_lbls,\n",
    "        batch_size=10,\n",
    "        num_epochs=1,\n",
    "        shuffle=False)\n",
    "\n",
    "    validate_input_fn = tf.estimator.inputs.numpy_input_fn(\n",
    "        x={'x':valid_exs},\n",
    "        y=valid_lbls,\n",
    "        batch_size=10,\n",
    "        num_epochs=1,\n",
    "        shuffle=False)\n",
    "\n",
    "    cnn_model.train(input_fn=train_input_fn)\n",
    "\n",
    "    print('STEP {:<10}'.format(str(step)), end='')\n",
    "\n",
    "    train_log = cnn_model.evaluate(input_fn=eval_input_fn)\n",
    "    print('TRAIN:\\tloss={:.3f}\\t'.format(train_log['loss']), end='')\n",
    "\n",
    "    valid_log = cnn_model.evaluate(input_fn=validate_input_fn)\n",
    "    print('VALID:\\tloss={:.3f}'.format(valid_log['loss']))\n",
    "\n",
    "    train_metrics.append(train_log['loss'])\n",
    "    valid_metrics.append(valid_log['loss'])"
   ]
  },
  {
   "cell_type": "markdown",
   "metadata": {},
   "source": [
    "## Plot loss"
   ]
  },
  {
   "cell_type": "code",
   "execution_count": 33,
   "metadata": {
    "scrolled": false
   },
   "outputs": [
    {
     "data": {
      "image/png": "[encoded data removed]",
      "text/plain": [
       "<Figure size 1080x720 with 1 Axes>"
      ]
     },
     "metadata": {},
     "output_type": "display_data"
    }
   ],
   "source": [
    "plt.figure(figsize=(15,10))\n",
    "plt.plot(train_metrics, scaley=False)\n",
    "plt.plot(valid_metrics, scaley=False)\n",
    "plt.show()"
   ]
  },
  {
   "cell_type": "markdown",
   "metadata": {},
   "source": [
    "## Get test data"
   ]
  },
  {
   "cell_type": "code",
   "execution_count": 132,
   "metadata": {},
   "outputs": [],
   "source": [
    "test_img_ids = [f for f in os.listdir(test_image_dir) if os.path.isfile(os.path.join(test_image_dir, f))]"
   ]
  },
  {
   "cell_type": "markdown",
   "metadata": {},
   "source": [
    "## Predict"
   ]
  },
  {
   "cell_type": "code",
   "execution_count": 145,
   "metadata": {
    "scrolled": false
   },
   "outputs": [],
   "source": [
    "all_preds = []\n",
    "\n",
    "for i in range(0, len(test_img_ids), 20):\n",
    "    \n",
    "    test_img_list = [imread(test_image_dir + '/' + img_id) for img_id in test_img_ids[i:i+20]]\n",
    "    \n",
    "    test_exs = np.asarray(test_img_list, dtype=np.float32)\n",
    "    \n",
    "    predict_input_fn = tf.estimator.inputs.numpy_input_fn(\n",
    "        x={'x':test_exs},\n",
    "        batch_size=1,\n",
    "        num_epochs=1,\n",
    "        shuffle=False)\n",
    "    \n",
    "    predict_generator = cnn_model.predict(input_fn=predict_input_fn)\n",
    "    predict_dictlist = [next(predict_generator) for i in range(len(test_exs))]\n",
    "\n",
    "    preds = [predict_dictlist[item] for item in range(len(predict_dictlist))]\n",
    "        \n",
    "    lst = []\n",
    "    \n",
    "    for item in preds:\n",
    "        item = item > 0.9\n",
    "        lst.append(rle_encode(item))\n",
    "    \n",
    "    all_preds.append(lst)"
   ]
  },
  {
   "cell_type": "markdown",
   "metadata": {},
   "source": [
    "## RL-encode predicted masks"
   ]
  },
  {
   "cell_type": "code",
   "execution_count": 156,
   "metadata": {
    "scrolled": false
   },
   "outputs": [],
   "source": [
    "rle_preds = []\n",
    "\n",
    "for lst in all_preds:\n",
    "    for item in lst:\n",
    "        rle_preds.append(item)"
   ]
  },
  {
   "cell_type": "markdown",
   "metadata": {},
   "source": [
    "## Create submission file"
   ]
  },
  {
   "cell_type": "code",
   "execution_count": 159,
   "metadata": {},
   "outputs": [],
   "source": [
    "submission = pd.DataFrame()\n",
    "submission['ImageId'] = test_img_ids\n",
    "submission['EncodedPixels'] = rle_preds\n",
    "\n",
    "# sort dataframe by image_ids\n",
    "submission = submission.sort_values(by='ImageId').reset_index().drop(columns='index')\n",
    "\n",
    "# set index to start from 1\n",
    "submission.index += 1\n",
    "\n",
    "# save to file\n",
    "submission.to_csv('submission.csv')"
   ]
  },
  {
   "cell_type": "code",
   "execution_count": null,
   "metadata": {},
   "outputs": [],
   "source": []
  }
 ],
 "metadata": {
  "kernelspec": {
   "display_name": "Python 3",
   "language": "python",
   "name": "python3"
  },
  "language_info": {
   "codemirror_mode": {
    "name": "ipython",
    "version": 3
   },
   "file_extension": ".py",
   "mimetype": "text/x-python",
   "name": "python",
   "nbconvert_exporter": "python",
   "pygments_lexer": "ipython3",
   "version": "3.6.6"
  }
 },
 "nbformat": 4,
 "nbformat_minor": 2
}
